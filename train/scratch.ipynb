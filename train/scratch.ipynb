{
 "cells": [
  {
   "cell_type": "code",
   "execution_count": 12,
   "id": "aa359a0b",
   "metadata": {},
   "outputs": [
    {
     "name": "stdout",
     "output_type": "stream",
     "text": [
      "The autoreload extension is already loaded. To reload it, use:\n",
      "  %reload_ext autoreload\n"
     ]
    }
   ],
   "source": [
    "# For conveniance: \n",
    "%load_ext autoreload\n",
    "%autoreload 2\n",
    "\n",
    "import sys\n",
    "import os\n",
    "from pathlib import Path\n",
    "from dotenv import load_dotenv\n",
    "\n",
    "working_dir = Path.cwd()\n",
    "while working_dir.name != 'CausalMTR-BC':\n",
    "    working_dir = working_dir.parent\n",
    "    if working_dir == Path.home():\n",
    "        raise FileNotFoundError(\"Base directory 'CausalMTR-BC' not found\")\n",
    "os.chdir(working_dir)\n",
    "\n",
    "# Load env variables from config/.env \n",
    "dotenv_path = Path(\"configs/.env\")\n",
    "load_dotenv(dotenv_path=dotenv_path)\n",
    "\n",
    "from gpudrive.env.config import EnvConfig, SceneConfig\n",
    "from gpudrive.env.env_torch import GPUDriveTorchEnv\n",
    "from gpudrive.visualize.utils import img_from_fig\n",
    "from gpudrive.env.dataset import SceneDataLoader\n",
    "import matplotlib.pyplot as plt"
   ]
  },
  {
   "cell_type": "code",
   "execution_count": 13,
   "id": "33fe2f44",
   "metadata": {},
   "outputs": [],
   "source": [
    "%matplotlib inline"
   ]
  },
  {
   "cell_type": "code",
   "execution_count": null,
   "id": "b4cf9d1b",
   "metadata": {},
   "outputs": [],
   "source": [
    "from CMTR.mtr.config import cfg_from_list\n",
    "import yaml \n",
    "from easydict import EasyDict\n",
    "import logging\n",
    "import numpy as np"
   ]
  },
  {
   "cell_type": "code",
   "execution_count": 10,
   "id": "8defdc07",
   "metadata": {},
   "outputs": [
    {
     "ename": "FileNotFoundError",
     "evalue": "[Errno 2] No such file or directory: '/Research/CMTR/data/waymo/processed_scenarios_training_infos.pkl'",
     "output_type": "error",
     "traceback": [
      "\u001b[31m---------------------------------------------------------------------------\u001b[39m",
      "\u001b[31mFileNotFoundError\u001b[39m                         Traceback (most recent call last)",
      "\u001b[36mCell\u001b[39m\u001b[36m \u001b[39m\u001b[32mIn[10]\u001b[39m\u001b[32m, line 13\u001b[39m\n\u001b[32m     10\u001b[39m logger = logging.getLogger(\u001b[34m__name__\u001b[39m)\n\u001b[32m     12\u001b[39m config = getconfig(\u001b[33m\"\u001b[39m\u001b[33mconfigs/config.yaml\u001b[39m\u001b[33m\"\u001b[39m)\n\u001b[32m---> \u001b[39m\u001b[32m13\u001b[39m waymo_dataset = \u001b[43mWaymoDataset\u001b[49m\u001b[43m(\u001b[49m\u001b[43mconfig\u001b[49m\u001b[43m.\u001b[49m\u001b[43mDATA_CONFIG\u001b[49m\u001b[43m,\u001b[49m\u001b[43m \u001b[49m\u001b[43mtest_mode\u001b[49m\u001b[43m=\u001b[49m\u001b[32;43m1\u001b[39;49m\u001b[43m,\u001b[49m\u001b[43m \u001b[49m\u001b[43mlogger\u001b[49m\u001b[43m=\u001b[49m\u001b[43mlogger\u001b[49m\u001b[43m)\u001b[49m\n",
      "\u001b[36mFile \u001b[39m\u001b[32m/scratch/cluster/abitpal/CausalMTR-BC/CMTR/mtr/datasets/waymo/waymo_dataset.py:31\u001b[39m, in \u001b[36mWaymoDataset.__init__\u001b[39m\u001b[34m(self, dataset_cfg, training, test_mode, logger, include_goals)\u001b[39m\n\u001b[32m     28\u001b[39m \u001b[38;5;28mself\u001b[39m.data_root = cfg.ROOT_DIR / \u001b[38;5;28mself\u001b[39m.dataset_cfg.DATA_ROOT\n\u001b[32m     29\u001b[39m \u001b[38;5;28mself\u001b[39m.data_path = \u001b[38;5;28mself\u001b[39m.data_root / \u001b[38;5;28mself\u001b[39m.dataset_cfg.SPLIT_DIR[\u001b[38;5;28mself\u001b[39m.mode]\n\u001b[32m---> \u001b[39m\u001b[32m31\u001b[39m \u001b[38;5;28mself\u001b[39m.infos = \u001b[38;5;28;43mself\u001b[39;49m\u001b[43m.\u001b[49m\u001b[43mget_all_infos\u001b[49m\u001b[43m(\u001b[49m\u001b[38;5;28;43mself\u001b[39;49m\u001b[43m.\u001b[49m\u001b[43mdata_root\u001b[49m\u001b[43m \u001b[49m\u001b[43m/\u001b[49m\u001b[43m \u001b[49m\u001b[38;5;28;43mself\u001b[39;49m\u001b[43m.\u001b[49m\u001b[43mdataset_cfg\u001b[49m\u001b[43m.\u001b[49m\u001b[43mINFO_FILE\u001b[49m\u001b[43m[\u001b[49m\u001b[38;5;28;43mself\u001b[39;49m\u001b[43m.\u001b[49m\u001b[43mmode\u001b[49m\u001b[43m]\u001b[49m\u001b[43m)\u001b[49m\n\u001b[32m     32\u001b[39m \u001b[38;5;28mself\u001b[39m.logger.info(\u001b[33mf\u001b[39m\u001b[33m'\u001b[39m\u001b[33mTotal scenes after filters: \u001b[39m\u001b[38;5;132;01m{\u001b[39;00m\u001b[38;5;28mlen\u001b[39m(\u001b[38;5;28mself\u001b[39m.infos)\u001b[38;5;132;01m}\u001b[39;00m\u001b[33m'\u001b[39m)\n\u001b[32m     33\u001b[39m \u001b[38;5;28mself\u001b[39m.CMTR = \u001b[38;5;28;01mFalse\u001b[39;00m\n",
      "\u001b[36mFile \u001b[39m\u001b[32m/scratch/cluster/abitpal/CausalMTR-BC/CMTR/mtr/datasets/waymo/waymo_dataset.py:44\u001b[39m, in \u001b[36mWaymoDataset.get_all_infos\u001b[39m\u001b[34m(self, info_path)\u001b[39m\n\u001b[32m     42\u001b[39m \u001b[38;5;28;01mdef\u001b[39;00m\u001b[38;5;250m \u001b[39m\u001b[34mget_all_infos\u001b[39m(\u001b[38;5;28mself\u001b[39m, info_path):\n\u001b[32m     43\u001b[39m     \u001b[38;5;28mself\u001b[39m.logger.info(\u001b[33mf\u001b[39m\u001b[33m'\u001b[39m\u001b[33mStart to load infos from \u001b[39m\u001b[38;5;132;01m{\u001b[39;00minfo_path\u001b[38;5;132;01m}\u001b[39;00m\u001b[33m'\u001b[39m)\n\u001b[32m---> \u001b[39m\u001b[32m44\u001b[39m     \u001b[38;5;28;01mwith\u001b[39;00m \u001b[38;5;28;43mopen\u001b[39;49m\u001b[43m(\u001b[49m\u001b[43minfo_path\u001b[49m\u001b[43m,\u001b[49m\u001b[43m \u001b[49m\u001b[33;43m'\u001b[39;49m\u001b[33;43mrb\u001b[39;49m\u001b[33;43m'\u001b[39;49m\u001b[43m)\u001b[49m \u001b[38;5;28;01mas\u001b[39;00m f:\n\u001b[32m     45\u001b[39m         src_infos = pickle.load(f)\n\u001b[32m     47\u001b[39m     src_infos = \u001b[38;5;28mlist\u001b[39m(\u001b[38;5;28msorted\u001b[39m(src_infos, key=\u001b[38;5;28;01mlambda\u001b[39;00m info: info[\u001b[33m'\u001b[39m\u001b[33mscenario_id\u001b[39m\u001b[33m'\u001b[39m]))\n",
      "\u001b[31mFileNotFoundError\u001b[39m: [Errno 2] No such file or directory: '/Research/CMTR/data/waymo/processed_scenarios_training_infos.pkl'"
     ]
    }
   ],
   "source": [
    "def getconfig(cfg_file):\n",
    "    with open(cfg_file, 'r') as f:\n",
    "        try:\n",
    "            config = yaml.load(f, Loader=yaml.FullLoader)\n",
    "        except:\n",
    "            config = yaml.load(f)\n",
    "\n",
    "    return EasyDict(config)\n",
    "\n",
    "logger = logging.getLogger(__name__)\n",
    "\n",
    "config = getconfig(\"configs/config.yaml\")\n",
    "waymo_dataset = WaymoDataset(config.DATA_CONFIG, test_mode=1, logger=logger)"
   ]
  },
  {
   "cell_type": "code",
   "execution_count": null,
   "id": "092531d3",
   "metadata": {},
   "outputs": [],
   "source": []
  },
  {
   "cell_type": "code",
   "execution_count": null,
   "id": "af5ffc12",
   "metadata": {},
   "outputs": [],
   "source": []
  }
 ],
 "metadata": {
  "kernelspec": {
   "display_name": "cmtr",
   "language": "python",
   "name": "python3"
  },
  "language_info": {
   "codemirror_mode": {
    "name": "ipython",
    "version": 3
   },
   "file_extension": ".py",
   "mimetype": "text/x-python",
   "name": "python",
   "nbconvert_exporter": "python",
   "pygments_lexer": "ipython3",
   "version": "3.11.8"
  }
 },
 "nbformat": 4,
 "nbformat_minor": 5
}
