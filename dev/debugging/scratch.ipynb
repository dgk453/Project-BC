{
 "cells": [
  {
   "cell_type": "code",
   "execution_count": 1,
   "id": "29af9c86",
   "metadata": {},
   "outputs": [
    {
     "name": "stdout",
     "output_type": "stream",
     "text": [
      "/Research\n"
     ]
    }
   ],
   "source": [
    "%matplotlib inline\n",
    "import os\n",
    "os.environ[\"CUDA_VISIBLE_DEVICES\"]=\"0\"\n",
    "\n",
    "import sys\n",
    "import os\n",
    "from pathlib import Path\n",
    "\n",
    "os.chdir(path=\"/Research\")\n",
    "print(Path.cwd())\n",
    "sys.path.append(os.path.abspath('/Research/gpudrive'))\n",
    "\n",
    "from gpudrive.env.config import EnvConfig\n",
    "from gpudrive.env.env_torch import GPUDriveTorchEnv\n",
    "from gpudrive.env.dataset import SceneDataLoader\n",
    "import importlib\n",
    "\n",
    "from CMTR.mtr.config import cfg_from_list\n",
    "# from CMTR.mtr.datasets.dataset import DatasetTemplate\n",
    "from CMTR.mtr.datasets.waymo.waymo_dataset import WaymoDataset\n",
    "# from CMTR.mtr.models.context_encoder import MTREncoder\n",
    "import yaml \n",
    "from easydict import EasyDict\n",
    "import logging\n",
    "import torch\n",
    "import numpy as np\n",
    "\n",
    "# import CMTR.mtr.datasets.waymo.waymo_dataset\n",
    "# importlib.reload(CMTR.mtr.datasets.waymo.waymo_dataset)\n",
    "# from CMTR.mtr.datasets.waymo.waymo_dataset import WaymoDataset"
   ]
  },
  {
   "cell_type": "code",
   "execution_count": 2,
   "id": "27d34ded",
   "metadata": {},
   "outputs": [],
   "source": [
    "\n",
    "DYNAMICS_MODEL = \"delta_local\" # \"delta_local\" / \"state\" / \"classic\"\n",
    "DATA_PATH = \"data/processed/examples\" # Your data path\n",
    "MAX_NUM_OBJECTS = 64\n",
    "NUM_ENVS = 2\n",
    "DEVICE = \"cuda:0\"\n",
    "\n",
    "# Configs\n",
    "env_config = EnvConfig(dynamics_model=DYNAMICS_MODEL)"
   ]
  },
  {
   "cell_type": "code",
   "execution_count": 3,
   "id": "f9ca134b",
   "metadata": {},
   "outputs": [
    {
     "name": "stdout",
     "output_type": "stream",
     "text": [
      "Making the environment\n",
      "Compiling GPU engine code:\n",
      "/Research/gpudrive/external/madrona/src/mw/device/memory.cpp\n",
      "/Research/gpudrive/external/madrona/src/mw/device/state.cpp\n",
      "/Research/gpudrive/external/madrona/src/mw/device/crash.cpp\n",
      "/Research/gpudrive/external/madrona/src/mw/device/consts.cpp\n",
      "/Research/gpudrive/external/madrona/src/mw/device/taskgraph.cpp\n",
      "/Research/gpudrive/external/madrona/src/mw/device/taskgraph_utils.cpp\n",
      "/Research/gpudrive/external/madrona/src/mw/device/sort_archetype.cpp\n",
      "/Research/gpudrive/external/madrona/src/mw/device/host_print.cpp\n",
      "/Research/gpudrive/external/madrona/src/mw/../common/hashmap.cpp\n",
      "/Research/gpudrive/external/madrona/src/mw/../common/navmesh.cpp\n",
      "/Research/gpudrive/external/madrona/src/mw/../core/base.cpp\n",
      "/Research/gpudrive/external/madrona/src/mw/../physics/physics.cpp\n",
      "/Research/gpudrive/external/madrona/src/mw/../physics/geo.cpp\n",
      "/Research/gpudrive/external/madrona/src/mw/../physics/xpbd.cpp\n",
      "/Research/gpudrive/external/madrona/src/mw/../physics/tgs.cpp\n",
      "/Research/gpudrive/external/madrona/src/mw/../physics/narrowphase.cpp\n",
      "/Research/gpudrive/external/madrona/src/mw/../physics/broadphase.cpp\n",
      "/Research/gpudrive/external/madrona/src/mw/../render/ecs_system.cpp\n",
      "/Research/gpudrive/src/sim.cpp\n",
      "/Research/gpudrive/src/level_gen.cpp\n",
      "Initialization finished\n"
     ]
    },
    {
     "name": "stderr",
     "output_type": "stream",
     "text": [
      "/Research/gpudrive/src/level_gen.cpp(283): warning #177-D: function \"madrona_gpudrive::createFloorPlane\" was declared but never referenced\n",
      "  static void createFloorPlane(Engine &ctx)\n",
      "              ^\n",
      "\n",
      "Remark: The warnings can be suppressed with \"-diag-suppress <warning-number>\"\n",
      "\n",
      "\n",
      "\n"
     ]
    }
   ],
   "source": [
    "# Make dataloader\n",
    "data_loader = SceneDataLoader(\n",
    "    root=\"gpudrive/data/processed/examples\", # Path to the dataset\n",
    "    batch_size=NUM_ENVS, # Batch size, you want this to be equal to the number of worlds (envs) so that every world receives a different scene\n",
    "    dataset_size=NUM_ENVS, # Total number of different scenes we want to use\n",
    "    sample_with_replacement=False, \n",
    "    seed=42, \n",
    "    shuffle=True,   \n",
    ")\n",
    "\n",
    "print(\"Making the environment\")\n",
    "\n",
    "# Make environment\n",
    "env = GPUDriveTorchEnv(\n",
    "    config=env_config,\n",
    "    data_loader=data_loader,\n",
    "    max_cont_agents=MAX_NUM_OBJECTS, # Maximum number of agents to control per scenario\n",
    "    device=\"cuda\", \n",
    "    action_type=\"continuous\" # \"continuous\" or \"discrete\"\n",
    ")"
   ]
  },
  {
   "cell_type": "code",
   "execution_count": 6,
   "id": "c6100304",
   "metadata": {},
   "outputs": [],
   "source": [
    "import dev\n",
    "import dev.imitation_data_generation\n",
    "\n",
    "importlib.reload(dev)\n",
    "importlib.reload(dev.imitation_data_generation)\n",
    "\n",
    "from dev.imitation_data_generation import generate_state_action_pairs\n",
    "\n",
    "\n",
    "import CMTR\n",
    "import CMTR.mtr\n",
    "import CMTR.mtr.datasets\n",
    "import CMTR.mtr.datasets.waymo.waymo_dataset\n",
    "\n",
    "importlib.reload(CMTR)\n",
    "importlib.reload(CMTR.mtr)\n",
    "importlib.reload(CMTR.mtr.datasets)\n",
    "importlib.reload(CMTR.mtr.datasets.waymo.waymo_dataset)\n",
    "\n",
    "from CMTR.mtr.datasets.waymo.waymo_dataset import WaymoDataset\n",
    "\n"
   ]
  },
  {
   "cell_type": "code",
   "execution_count": 7,
   "id": "da38f559",
   "metadata": {},
   "outputs": [
    {
     "name": "stdout",
     "output_type": "stream",
     "text": [
      "torch.Size([47, 91, 12]) torch.Size([64, 91, 2])\n"
     ]
    },
    {
     "ename": "RuntimeError",
     "evalue": "Sizes of tensors must match except in dimension 2. Expected size 47 but got size 64 for tensor number 1 in the list.",
     "output_type": "error",
     "traceback": [
      "\u001b[31m---------------------------------------------------------------------------\u001b[39m",
      "\u001b[31mRuntimeError\u001b[39m                              Traceback (most recent call last)",
      "\u001b[36mCell\u001b[39m\u001b[36m \u001b[39m\u001b[32mIn[7]\u001b[39m\u001b[32m, line 22\u001b[39m\n\u001b[32m     19\u001b[39m config = getconfig(\u001b[33m\"\u001b[39m\u001b[33mdev/configs/config.yaml\u001b[39m\u001b[33m\"\u001b[39m)\n\u001b[32m     20\u001b[39m waymo_dataset = WaymoDataset(config.DATA_CONFIG, test_mode=\u001b[32m1\u001b[39m, logger=logger)\n\u001b[32m---> \u001b[39m\u001b[32m22\u001b[39m infos = \u001b[43mgenerate_state_action_pairs\u001b[49m\u001b[43m(\u001b[49m\u001b[43menv\u001b[49m\u001b[43m=\u001b[49m\u001b[43menv\u001b[49m\u001b[43m,\u001b[49m\n\u001b[32m     23\u001b[39m \u001b[43m                            \u001b[49m\u001b[43mdevice\u001b[49m\u001b[43m=\u001b[49m\u001b[33;43m\"\u001b[39;49m\u001b[33;43mcuda\u001b[39;49m\u001b[33;43m\"\u001b[39;49m\u001b[43m,\u001b[49m\n\u001b[32m     24\u001b[39m \u001b[43m                            \u001b[49m\u001b[43maction_space_type\u001b[49m\u001b[43m=\u001b[49m\u001b[33;43m\"\u001b[39;49m\u001b[33;43mcontinuous\u001b[39;49m\u001b[33;43m\"\u001b[39;49m\u001b[43m,\u001b[49m\u001b[43m \u001b[49m\n\u001b[32m     25\u001b[39m \u001b[43m                            \u001b[49m\u001b[43muse_action_indices\u001b[49m\u001b[43m=\u001b[49m\u001b[38;5;28;43;01mTrue\u001b[39;49;00m\u001b[43m,\u001b[49m\u001b[43m  \u001b[49m\n\u001b[32m     26\u001b[39m \u001b[43m                            \u001b[49m\u001b[43mmake_video\u001b[49m\u001b[43m=\u001b[49m\u001b[38;5;28;43;01mFalse\u001b[39;49;00m\u001b[43m,\u001b[49m\n\u001b[32m     27\u001b[39m \u001b[43m                            \u001b[49m\u001b[43mrender_index\u001b[49m\u001b[43m=\u001b[49m\u001b[43m[\u001b[49m\u001b[32;43m2\u001b[39;49m\u001b[43m,\u001b[49m\u001b[43m \u001b[49m\u001b[32;43m0\u001b[39;49m\u001b[43m]\u001b[49m\u001b[43m,\u001b[49m\n\u001b[32m     28\u001b[39m \u001b[43m                            \u001b[49m\u001b[43msave_path\u001b[49m\u001b[43m=\u001b[49m\u001b[33;43m\"\u001b[39;49m\u001b[33;43muse_discr_actions_fix\u001b[39;49m\u001b[33;43m\"\u001b[39;49m\u001b[43m,\u001b[49m\n\u001b[32m     29\u001b[39m \u001b[43m                            \u001b[49m\u001b[43mCMTR\u001b[49m\u001b[43m=\u001b[49m\u001b[38;5;28;43;01mTrue\u001b[39;49;00m\u001b[43m,\u001b[49m\u001b[43m \u001b[49m\n\u001b[32m     30\u001b[39m \u001b[43m                            \u001b[49m\u001b[43mwaymo_dataset\u001b[49m\u001b[43m=\u001b[49m\u001b[43mwaymo_dataset\u001b[49m\u001b[43m,\u001b[49m\n\u001b[32m     31\u001b[39m \u001b[43m                            \u001b[49m\u001b[43mprior_frame\u001b[49m\u001b[43m=\u001b[49m\u001b[32;43m40\u001b[39;49m\u001b[43m,\u001b[49m\n\u001b[32m     32\u001b[39m \u001b[43m                            \u001b[49m\u001b[43mfuture_frame\u001b[49m\u001b[43m=\u001b[49m\u001b[32;43m40\u001b[39;49m\n\u001b[32m     33\u001b[39m \u001b[43m)\u001b[49m \n",
      "\u001b[36mFile \u001b[39m\u001b[32m/Research/dev/imitation_data_generation.py:482\u001b[39m, in \u001b[36mgenerate_state_action_pairs\u001b[39m\u001b[34m(env, device, action_space_type, use_action_indices, make_video, render_index, save_path, CMTR, waymo_dataset, prior_frame, future_frame)\u001b[39m\n\u001b[32m    480\u001b[39m \u001b[38;5;28;01massert\u001b[39;00m \u001b[38;5;129;01mnot\u001b[39;00m (waymo_dataset \u001b[38;5;129;01mis\u001b[39;00m \u001b[38;5;28;01mNone\u001b[39;00m)\n\u001b[32m    481\u001b[39m \u001b[38;5;66;03m# observations, actions = create_infos_simple(trajectories, env, waymo_dataset, expert_actions, prior_frame=prior_frame, future_frame=future_frame)\u001b[39;00m\n\u001b[32m--> \u001b[39m\u001b[32m482\u001b[39m \u001b[38;5;28;01mreturn\u001b[39;00m \u001b[43mcreate_infos_simple\u001b[49m\u001b[43m(\u001b[49m\u001b[43mtrajectories\u001b[49m\u001b[43m,\u001b[49m\u001b[43m \u001b[49m\u001b[43mlocal_polylines\u001b[49m\u001b[43m,\u001b[49m\u001b[43m \u001b[49m\u001b[43mlocalized_goals\u001b[49m\u001b[43m,\u001b[49m\u001b[43m \u001b[49m\u001b[43menv\u001b[49m\u001b[43m,\u001b[49m\u001b[43m \u001b[49m\u001b[43mwaymo_dataset\u001b[49m\u001b[43m,\u001b[49m\u001b[43m \u001b[49m\u001b[43mexpert_actions\u001b[49m\u001b[43m,\u001b[49m\u001b[43m \u001b[49m\u001b[43mprior_frame\u001b[49m\u001b[43m=\u001b[49m\u001b[43mprior_frame\u001b[49m\u001b[43m,\u001b[49m\u001b[43m \u001b[49m\u001b[43mfuture_frame\u001b[49m\u001b[43m=\u001b[49m\u001b[43mfuture_frame\u001b[49m\u001b[43m)\u001b[49m\n",
      "\u001b[36mFile \u001b[39m\u001b[32m/Research/dev/imitation_data_generation.py:176\u001b[39m, in \u001b[36mcreate_infos_simple\u001b[39m\u001b[34m(trajectories, local_polylines, local_goals, env, waymo_dataset, expert_actions, prior_frame, future_frame)\u001b[39m\n\u001b[32m    173\u001b[39m obj_types = np.array([object_type_dict[i] \u001b[38;5;28;01mfor\u001b[39;00m i \u001b[38;5;129;01min\u001b[39;00m obj_types_pre])\n\u001b[32m    175\u001b[39m \u001b[38;5;28mprint\u001b[39m(full_trajectories.shape, full_goals.shape)\n\u001b[32m--> \u001b[39m\u001b[32m176\u001b[39m trajs = \u001b[43mtorch\u001b[49m\u001b[43m.\u001b[49m\u001b[43mcat\u001b[49m\u001b[43m(\u001b[49m\u001b[43m[\u001b[49m\u001b[43mfull_trajectories\u001b[49m\u001b[43m[\u001b[49m\u001b[43m.\u001b[49m\u001b[43m.\u001b[49m\u001b[43m.\u001b[49m\u001b[43m,\u001b[49m\u001b[43m \u001b[49m\u001b[43m:\u001b[49m\u001b[43m-\u001b[49m\u001b[32;43m1\u001b[39;49m\u001b[43m]\u001b[49m\u001b[43m,\u001b[49m\u001b[43m \u001b[49m\u001b[43mfull_goals\u001b[49m\u001b[43m,\u001b[49m\u001b[43m \u001b[49m\u001b[43mfull_trajectories\u001b[49m\u001b[43m[\u001b[49m\u001b[43m.\u001b[49m\u001b[43m.\u001b[49m\u001b[43m.\u001b[49m\u001b[43m,\u001b[49m\u001b[43m \u001b[49m\u001b[43m-\u001b[49m\u001b[32;43m1\u001b[39;49m\u001b[43m]\u001b[49m\u001b[43m]\u001b[49m\u001b[43m,\u001b[49m\u001b[43m \u001b[49m\u001b[43mdim\u001b[49m\u001b[43m=\u001b[49m\u001b[43m-\u001b[49m\u001b[32;43m1\u001b[39;49m\u001b[43m)\u001b[49m \u001b[38;5;66;03m# attributes, goals, valid\u001b[39;00m\n\u001b[32m    178\u001b[39m infos = {\n\u001b[32m    179\u001b[39m     \u001b[33m\"\u001b[39m\u001b[33mscenario_id\u001b[39m\u001b[33m\"\u001b[39m: \u001b[33m\"\u001b[39m\u001b[33m0\u001b[39m\u001b[33m\"\u001b[39m,\n\u001b[32m    180\u001b[39m     \u001b[33m\"\u001b[39m\u001b[33mtimestamps_seconds\u001b[39m\u001b[33m\"\u001b[39m: torch.arange(episode_len).cpu().numpy()/\u001b[32m10\u001b[39m, \n\u001b[32m   (...)\u001b[39m\u001b[32m    209\u001b[39m     }\n\u001b[32m    210\u001b[39m }\n\u001b[32m    212\u001b[39m ret = waymo_dataset.create_scene_level_data(\u001b[38;5;28;01mNone\u001b[39;00m, infos)\n",
      "\u001b[31mRuntimeError\u001b[39m: Sizes of tensors must match except in dimension 2. Expected size 47 but got size 64 for tensor number 1 in the list."
     ]
    }
   ],
   "source": [
    "'''\n",
    "Generating state-action pairs: Part of the dataloader\n",
    "'''\n",
    "import logging\n",
    "\n",
    "logger = logging.getLogger(__name__)\n",
    "\n",
    "def getconfig(cfg_file):\n",
    "    with open(cfg_file, 'r') as f:\n",
    "        try:\n",
    "            config = yaml.load(f, Loader=yaml.FullLoader)\n",
    "        except:\n",
    "            config = yaml.load(f)\n",
    "\n",
    "    return EasyDict(config)\n",
    "\n",
    "logger = logging.getLogger(__name__)\n",
    "\n",
    "config = getconfig(\"dev/configs/config.yaml\")\n",
    "waymo_dataset = WaymoDataset(config.DATA_CONFIG, test_mode=1, logger=logger)\n",
    "\n",
    "infos = generate_state_action_pairs(env=env,\n",
    "                            device=\"cuda\",\n",
    "                            action_space_type=\"continuous\", \n",
    "                            use_action_indices=True,  \n",
    "                            make_video=False,\n",
    "                            render_index=[2, 0],\n",
    "                            save_path=\"use_discr_actions_fix\",\n",
    "                            CMTR=True, \n",
    "                            waymo_dataset=waymo_dataset,\n",
    "                            prior_frame=40,\n",
    "                            future_frame=40\n",
    ") "
   ]
  },
  {
   "cell_type": "code",
   "execution_count": 50,
   "id": "80021e4b",
   "metadata": {},
   "outputs": [
    {
     "data": {
      "text/plain": [
       "torch.Size([8, 200, 1, 13])"
      ]
     },
     "execution_count": 50,
     "metadata": {},
     "output_type": "execute_result"
    }
   ],
   "source": [
    "infos['map_infos']['localized_polylines'].shape"
   ]
  },
  {
   "cell_type": "code",
   "execution_count": 54,
   "id": "b836ac71",
   "metadata": {},
   "outputs": [
    {
     "data": {
      "text/plain": [
       "torch.Size([8, 200, 1])"
      ]
     },
     "execution_count": 54,
     "metadata": {},
     "output_type": "execute_result"
    }
   ],
   "source": [
    "infos['map_infos']['localized_polylines_mask'].shape"
   ]
  },
  {
   "cell_type": "code",
   "execution_count": 56,
   "id": "fa6a625b",
   "metadata": {},
   "outputs": [
    {
     "data": {
      "text/plain": [
       "torch.Size([8, 200, 3])"
      ]
     },
     "execution_count": 56,
     "metadata": {},
     "output_type": "execute_result"
    }
   ],
   "source": [
    "infos['map_infos']['localized_polylines_center'].shape"
   ]
  },
  {
   "cell_type": "code",
   "execution_count": 61,
   "id": "da550fc8",
   "metadata": {},
   "outputs": [],
   "source": [
    "expert_actions, expert_speeds, expert_positions, expert_yaws = env.get_expert_actions()"
   ]
  },
  {
   "cell_type": "code",
   "execution_count": 62,
   "id": "6f5de242",
   "metadata": {},
   "outputs": [
    {
     "data": {
      "text/plain": [
       "torch.Size([2, 64, 91, 3])"
      ]
     },
     "execution_count": 62,
     "metadata": {},
     "output_type": "execute_result"
    }
   ],
   "source": [
    "expert_actions.shape"
   ]
  },
  {
   "cell_type": "code",
   "execution_count": 68,
   "id": "bbd51e6c",
   "metadata": {},
   "outputs": [
    {
     "data": {
      "text/plain": [
       "(8, 47, 11, 29)"
      ]
     },
     "execution_count": 68,
     "metadata": {},
     "output_type": "execute_result"
    }
   ],
   "source": [
    "infos[0][0]['obj_trajs'].shape"
   ]
  },
  {
   "cell_type": "code",
   "execution_count": 69,
   "id": "e1c006f7",
   "metadata": {},
   "outputs": [
    {
     "data": {
      "text/plain": [
       "(8, 47, 80, 4)"
      ]
     },
     "execution_count": 69,
     "metadata": {},
     "output_type": "execute_result"
    }
   ],
   "source": [
    "infos[0][0]['obj_trajs_future_state'].shape"
   ]
  },
  {
   "cell_type": "code",
   "execution_count": 8,
   "id": "1e4b144c",
   "metadata": {},
   "outputs": [],
   "source": [
    "waymo_dataset = WaymoDataset(config.DATA_CONFIG, test_mode=1, logger=logger)"
   ]
  },
  {
   "cell_type": "code",
   "execution_count": 9,
   "id": "c9e2efd0",
   "metadata": {},
   "outputs": [],
   "source": [
    "ret_dict = waymo_dataset.create_scene_level_data(0)"
   ]
  },
  {
   "cell_type": "code",
   "execution_count": 10,
   "id": "056c96da",
   "metadata": {},
   "outputs": [],
   "source": [
    "obj_trajs = ret_dict['obj_trajs']"
   ]
  },
  {
   "cell_type": "code",
   "execution_count": 11,
   "id": "b655417f",
   "metadata": {},
   "outputs": [
    {
     "data": {
      "text/plain": [
       "(3, 22, 11, 29)"
      ]
     },
     "execution_count": 11,
     "metadata": {},
     "output_type": "execute_result"
    }
   ],
   "source": [
    "obj_trajs.shape # (num_center_objects, num_objects, num_timestamps, num_attrs)"
   ]
  },
  {
   "cell_type": "code",
   "execution_count": 13,
   "id": "c2be819e",
   "metadata": {},
   "outputs": [],
   "source": [
    "from gpudrive.datatypes.observation import (\n",
    "    LocalEgoState,\n",
    "    GlobalEgoState,\n",
    "    # PartnerObs,\n",
    ")\n",
    "\n",
    "global_ego = GlobalEgoState.from_tensor(\n",
    "    abs_self_obs_tensor=env.sim.absolute_self_observation_tensor(),\n",
    "    backend=env.backend,\n",
    "    device=\"cuda\"\n",
    ")"
   ]
  },
  {
   "cell_type": "code",
   "execution_count": 18,
   "id": "593669b0",
   "metadata": {},
   "outputs": [],
   "source": [
    "control_mask = env.get_controlled_agents_mask()\n",
    "goals_x = global_ego.goal_x"
   ]
  },
  {
   "cell_type": "code",
   "execution_count": 26,
   "id": "f6b72bfd",
   "metadata": {},
   "outputs": [
    {
     "data": {
      "text/plain": [
       "[(tensor(-6.7849, device='cuda:0'), tensor(-6.7849, device='cuda:0')),\n",
       " (tensor(-2.4020, device='cuda:0'), tensor(-2.4020, device='cuda:0')),\n",
       " (tensor(7.9561, device='cuda:0'), tensor(7.9561, device='cuda:0')),\n",
       " (tensor(-23.5463, device='cuda:0'), tensor(-23.5463, device='cuda:0')),\n",
       " (tensor(-36.5822, device='cuda:0'), tensor(-36.5822, device='cuda:0')),\n",
       " (tensor(-12.2128, device='cuda:0'), tensor(-12.2128, device='cuda:0')),\n",
       " (tensor(-11.7589, device='cuda:0'), tensor(-11.7589, device='cuda:0')),\n",
       " (tensor(3.9974, device='cuda:0'), tensor(3.9974, device='cuda:0')),\n",
       " (tensor(-47.6550, device='cuda:0'), tensor(-47.6550, device='cuda:0')),\n",
       " (tensor(13.9465, device='cuda:0'), tensor(13.9465, device='cuda:0')),\n",
       " (tensor(-16.8408, device='cuda:0'), tensor(-16.8408, device='cuda:0')),\n",
       " (tensor(-14.7782, device='cuda:0'), tensor(-14.7782, device='cuda:0')),\n",
       " (tensor(-42.1628, device='cuda:0'), tensor(-42.1628, device='cuda:0')),\n",
       " (tensor(-25.2578, device='cuda:0'), tensor(-25.2578, device='cuda:0')),\n",
       " (tensor(14.7762, device='cuda:0'), tensor(14.7762, device='cuda:0')),\n",
       " (tensor(19.9061, device='cuda:0'), tensor(19.9061, device='cuda:0')),\n",
       " (tensor(44.5558, device='cuda:0'), tensor(44.5558, device='cuda:0')),\n",
       " (tensor(20.5291, device='cuda:0'), tensor(20.5291, device='cuda:0')),\n",
       " (tensor(28.0392, device='cuda:0'), tensor(28.0392, device='cuda:0')),\n",
       " (tensor(-24.7926, device='cuda:0'), tensor(-24.7926, device='cuda:0')),\n",
       " (tensor(-53.1283, device='cuda:0'), tensor(-53.1283, device='cuda:0')),\n",
       " (tensor(-23.1023, device='cuda:0'), tensor(-23.1023, device='cuda:0')),\n",
       " (tensor(-9.6686, device='cuda:0'), tensor(-9.6686, device='cuda:0')),\n",
       " (tensor(-23.1460, device='cuda:0'), tensor(-23.1460, device='cuda:0')),\n",
       " (tensor(-29.2159, device='cuda:0'), tensor(-29.2159, device='cuda:0')),\n",
       " (tensor(-32.9471, device='cuda:0'), tensor(-32.9471, device='cuda:0')),\n",
       " (tensor(-5.5679, device='cuda:0'), tensor(-5.5679, device='cuda:0')),\n",
       " (tensor(-33.6177, device='cuda:0'), tensor(-33.6177, device='cuda:0')),\n",
       " (tensor(-49.9692, device='cuda:0'), tensor(-49.9692, device='cuda:0')),\n",
       " (tensor(17.5591, device='cuda:0'), tensor(17.5591, device='cuda:0')),\n",
       " (tensor(-38.3859, device='cuda:0'), tensor(-38.3859, device='cuda:0')),\n",
       " (tensor(-61.9923, device='cuda:0'), tensor(-61.9923, device='cuda:0')),\n",
       " (tensor(19.5956, device='cuda:0'), tensor(19.5956, device='cuda:0')),\n",
       " (tensor(-42.4196, device='cuda:0'), tensor(-42.4196, device='cuda:0')),\n",
       " (tensor(7.7034, device='cuda:0'), tensor(7.7034, device='cuda:0')),\n",
       " (tensor(-11.2109, device='cuda:0'), tensor(-12.6141, device='cuda:0')),\n",
       " (tensor(55.4182, device='cuda:0'), tensor(55.4182, device='cuda:0')),\n",
       " (tensor(-35.0979, device='cuda:0'), tensor(-35.0979, device='cuda:0')),\n",
       " (tensor(-20.7358, device='cuda:0'), tensor(-20.7358, device='cuda:0')),\n",
       " (tensor(0., device='cuda:0'), tensor(0., device='cuda:0')),\n",
       " (tensor(0., device='cuda:0'), tensor(0., device='cuda:0')),\n",
       " (tensor(0., device='cuda:0'), tensor(0., device='cuda:0')),\n",
       " (tensor(0., device='cuda:0'), tensor(0., device='cuda:0')),\n",
       " (tensor(0., device='cuda:0'), tensor(0., device='cuda:0')),\n",
       " (tensor(0., device='cuda:0'), tensor(0., device='cuda:0')),\n",
       " (tensor(0., device='cuda:0'), tensor(0., device='cuda:0')),\n",
       " (tensor(0., device='cuda:0'), tensor(0., device='cuda:0')),\n",
       " (tensor(0., device='cuda:0'), tensor(0., device='cuda:0')),\n",
       " (tensor(0., device='cuda:0'), tensor(0., device='cuda:0')),\n",
       " (tensor(0., device='cuda:0'), tensor(0., device='cuda:0')),\n",
       " (tensor(0., device='cuda:0'), tensor(0., device='cuda:0')),\n",
       " (tensor(0., device='cuda:0'), tensor(0., device='cuda:0')),\n",
       " (tensor(0., device='cuda:0'), tensor(0., device='cuda:0')),\n",
       " (tensor(0., device='cuda:0'), tensor(0., device='cuda:0')),\n",
       " (tensor(0., device='cuda:0'), tensor(0., device='cuda:0')),\n",
       " (tensor(0., device='cuda:0'), tensor(0., device='cuda:0')),\n",
       " (tensor(67.0645, device='cuda:0'), tensor(67.0645, device='cuda:0')),\n",
       " (tensor(33.4258, device='cuda:0'), tensor(33.4258, device='cuda:0')),\n",
       " (tensor(58.2207, device='cuda:0'), tensor(58.2207, device='cuda:0')),\n",
       " (tensor(56.1846, device='cuda:0'), tensor(56.1846, device='cuda:0')),\n",
       " (tensor(-27.5264, device='cuda:0'), tensor(-27.5264, device='cuda:0')),\n",
       " (tensor(41.8486, device='cuda:0'), tensor(41.8486, device='cuda:0')),\n",
       " (tensor(65.6924, device='cuda:0'), tensor(65.6924, device='cuda:0')),\n",
       " (tensor(-9.1709, device='cuda:0'), tensor(-9.1709, device='cuda:0')),\n",
       " (tensor(44.9922, device='cuda:0'), tensor(44.9922, device='cuda:0')),\n",
       " (tensor(-8.8115, device='cuda:0'), tensor(-8.8115, device='cuda:0')),\n",
       " (tensor(-27.9912, device='cuda:0'), tensor(-27.9912, device='cuda:0')),\n",
       " (tensor(82.6572, device='cuda:0'), tensor(82.6572, device='cuda:0')),\n",
       " (tensor(-23.9619, device='cuda:0'), tensor(-23.9619, device='cuda:0')),\n",
       " (tensor(22.2432, device='cuda:0'), tensor(22.2432, device='cuda:0')),\n",
       " (tensor(-11.4463, device='cuda:0'), tensor(-11.4463, device='cuda:0')),\n",
       " (tensor(-16.9287, device='cuda:0'), tensor(-16.9287, device='cuda:0')),\n",
       " (tensor(74.8994, device='cuda:0'), tensor(74.8994, device='cuda:0')),\n",
       " (tensor(-3.2803, device='cuda:0'), tensor(-3.2803, device='cuda:0')),\n",
       " (tensor(-13.4932, device='cuda:0'), tensor(-13.4932, device='cuda:0')),\n",
       " (tensor(65.2510, device='cuda:0'), tensor(65.2510, device='cuda:0')),\n",
       " (tensor(-29.3232, device='cuda:0'), tensor(-29.3232, device='cuda:0')),\n",
       " (tensor(100.8320, device='cuda:0'), tensor(100.8320, device='cuda:0')),\n",
       " (tensor(87.7578, device='cuda:0'), tensor(87.7578, device='cuda:0')),\n",
       " (tensor(-29.4678, device='cuda:0'), tensor(-29.4678, device='cuda:0')),\n",
       " (tensor(-32.6162, device='cuda:0'), tensor(-32.6162, device='cuda:0')),\n",
       " (tensor(-31.4766, device='cuda:0'), tensor(-31.4766, device='cuda:0')),\n",
       " (tensor(91.3887, device='cuda:0'), tensor(91.3887, device='cuda:0')),\n",
       " (tensor(-30.1953, device='cuda:0'), tensor(-30.1953, device='cuda:0')),\n",
       " (tensor(6.9941, device='cuda:0'), tensor(6.9941, device='cuda:0')),\n",
       " (tensor(78.4238, device='cuda:0'), tensor(78.4238, device='cuda:0')),\n",
       " (tensor(0., device='cuda:0'), tensor(0., device='cuda:0')),\n",
       " (tensor(0., device='cuda:0'), tensor(0., device='cuda:0')),\n",
       " (tensor(0., device='cuda:0'), tensor(0., device='cuda:0')),\n",
       " (tensor(0., device='cuda:0'), tensor(0., device='cuda:0')),\n",
       " (tensor(0., device='cuda:0'), tensor(0., device='cuda:0')),\n",
       " (tensor(0., device='cuda:0'), tensor(0., device='cuda:0')),\n",
       " (tensor(0., device='cuda:0'), tensor(0., device='cuda:0')),\n",
       " (tensor(0., device='cuda:0'), tensor(0., device='cuda:0')),\n",
       " (tensor(0., device='cuda:0'), tensor(0., device='cuda:0')),\n",
       " (tensor(0., device='cuda:0'), tensor(0., device='cuda:0')),\n",
       " (tensor(0., device='cuda:0'), tensor(0., device='cuda:0')),\n",
       " (tensor(0., device='cuda:0'), tensor(0., device='cuda:0')),\n",
       " (tensor(0., device='cuda:0'), tensor(0., device='cuda:0')),\n",
       " (tensor(0., device='cuda:0'), tensor(0., device='cuda:0')),\n",
       " (tensor(0., device='cuda:0'), tensor(0., device='cuda:0')),\n",
       " (tensor(0., device='cuda:0'), tensor(0., device='cuda:0')),\n",
       " (tensor(0., device='cuda:0'), tensor(0., device='cuda:0')),\n",
       " (tensor(0., device='cuda:0'), tensor(0., device='cuda:0')),\n",
       " (tensor(0., device='cuda:0'), tensor(0., device='cuda:0')),\n",
       " (tensor(0., device='cuda:0'), tensor(0., device='cuda:0')),\n",
       " (tensor(0., device='cuda:0'), tensor(0., device='cuda:0')),\n",
       " (tensor(0., device='cuda:0'), tensor(0., device='cuda:0')),\n",
       " (tensor(0., device='cuda:0'), tensor(0., device='cuda:0')),\n",
       " (tensor(0., device='cuda:0'), tensor(0., device='cuda:0')),\n",
       " (tensor(0., device='cuda:0'), tensor(0., device='cuda:0')),\n",
       " (tensor(0., device='cuda:0'), tensor(0., device='cuda:0')),\n",
       " (tensor(0., device='cuda:0'), tensor(0., device='cuda:0')),\n",
       " (tensor(0., device='cuda:0'), tensor(0., device='cuda:0')),\n",
       " (tensor(0., device='cuda:0'), tensor(0., device='cuda:0'))]"
      ]
     },
     "execution_count": 26,
     "metadata": {},
     "output_type": "execute_result"
    }
   ],
   "source": [
    "list(zip(goals_x[~control_mask], global_ego.pos_x[~control_mask]))"
   ]
  },
  {
   "cell_type": "code",
   "execution_count": 27,
   "id": "eef92267",
   "metadata": {},
   "outputs": [
    {
     "data": {
      "text/plain": [
       "[(tensor(22.0682, device='cuda:0'), tensor(11.9054, device='cuda:0')),\n",
       " (tensor(2.2360, device='cuda:0'), tensor(-21.0901, device='cuda:0')),\n",
       " (tensor(-63.2372, device='cuda:0'), tensor(-41.3113, device='cuda:0')),\n",
       " (tensor(70.2335, device='cuda:0'), tensor(38.1151, device='cuda:0')),\n",
       " (tensor(-15.3058, device='cuda:0'), tensor(-48.5161, device='cuda:0')),\n",
       " (tensor(38.7407, device='cuda:0'), tensor(39.3571, device='cuda:0')),\n",
       " (tensor(30.9185, device='cuda:0'), tensor(25.8573, device='cuda:0')),\n",
       " (tensor(12.3284, device='cuda:0'), tensor(-7.4191, device='cuda:0')),\n",
       " (tensor(95.7842, device='cuda:0'), tensor(40.6240, device='cuda:0')),\n",
       " (tensor(93.8916, device='cuda:0'), tensor(22.0947, device='cuda:0')),\n",
       " (tensor(-39.9854, device='cuda:0'), tensor(29.4111, device='cuda:0')),\n",
       " (tensor(99.8877, device='cuda:0'), tensor(83.8340, device='cuda:0')),\n",
       " (tensor(26.5371, device='cuda:0'), tensor(39.0342, device='cuda:0'))]"
      ]
     },
     "execution_count": 27,
     "metadata": {},
     "output_type": "execute_result"
    }
   ],
   "source": [
    "list(zip(goals_x[control_mask], global_ego.pos_x[control_mask]))"
   ]
  },
  {
   "cell_type": "code",
   "execution_count": 42,
   "id": "8ecfaa1b",
   "metadata": {},
   "outputs": [],
   "source": [
    "import dev\n",
    "import dev.imitation_data_generation\n",
    "\n",
    "importlib.reload(dev)\n",
    "importlib.reload(dev.imitation_data_generation)\n",
    "\n",
    "from dev.imitation_data_generation import generate_state_action_pairs"
   ]
  },
  {
   "cell_type": "code",
   "execution_count": 43,
   "id": "bcc3f77c",
   "metadata": {},
   "outputs": [],
   "source": [
    "'''\n",
    "Generating state-action pairs: Part of the dataloader\n",
    "'''\n",
    "waymo_dataset = WaymoDataset(config.DATA_CONFIG, test_mode=1, logger=logger)\n",
    "infos = generate_state_action_pairs(env=env,\n",
    "                            device=\"cuda\",\n",
    "                            action_space_type=\"continuous\", \n",
    "                            use_action_indices=True,  \n",
    "                            make_video=False,\n",
    "                            render_index=[2, 0],\n",
    "                            save_path=\"use_discr_actions_fix\",\n",
    "                            CMTR=True, \n",
    "                            waymo_dataset=waymo_dataset,\n",
    "                            prior_frame=40,\n",
    "                            future_frame=40\n",
    ") "
   ]
  },
  {
   "cell_type": "code",
   "execution_count": 35,
   "id": "44c3b9f5",
   "metadata": {},
   "outputs": [],
   "source": [
    "ret_dict = infos[0][0]"
   ]
  },
  {
   "cell_type": "code",
   "execution_count": 36,
   "id": "54e64e91",
   "metadata": {},
   "outputs": [
    {
     "data": {
      "text/plain": [
       "(8, 80, 4)"
      ]
     },
     "execution_count": 36,
     "metadata": {},
     "output_type": "execute_result"
    }
   ],
   "source": [
    "ret_dict['center_gt_trajs'].shape"
   ]
  },
  {
   "cell_type": "code",
   "execution_count": 37,
   "id": "e5f88ce6",
   "metadata": {},
   "outputs": [
    {
     "data": {
      "text/plain": [
       "(8, 47, 11, 31)"
      ]
     },
     "execution_count": 37,
     "metadata": {},
     "output_type": "execute_result"
    }
   ],
   "source": [
    "ret_dict['obj_trajs'].shape"
   ]
  },
  {
   "cell_type": "markdown",
   "id": "3618d8ec",
   "metadata": {},
   "source": []
  }
 ],
 "metadata": {
  "kernelspec": {
   "display_name": "gpudrive",
   "language": "python",
   "name": "python3"
  },
  "language_info": {
   "codemirror_mode": {
    "name": "ipython",
    "version": 3
   },
   "file_extension": ".py",
   "mimetype": "text/x-python",
   "name": "python",
   "nbconvert_exporter": "python",
   "pygments_lexer": "ipython3",
   "version": "3.11.8"
  }
 },
 "nbformat": 4,
 "nbformat_minor": 5
}
