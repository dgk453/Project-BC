{
 "cells": [
  {
   "cell_type": "code",
   "execution_count": 1,
   "id": "9ec5dccc",
   "metadata": {},
   "outputs": [
    {
     "name": "stdout",
     "output_type": "stream",
     "text": [
      "/Research\n"
     ]
    }
   ],
   "source": [
    "'''\n",
    "Piece of code to check if gpudrive can work on another cuda cluster :)\n",
    "I had trouble with it earlier so just outlining it here for reference\n",
    "'''\n",
    "\n",
    "\n",
    "import os\n",
    "os.environ[\"CUDA_VISIBLE_DEVICES\"]=\"0,1,2,3\"\n",
    "\n",
    "import sys\n",
    "import os\n",
    "from pathlib import Path\n",
    "\n",
    "os.chdir(path=\"/Research\")\n",
    "print(Path.cwd())\n",
    "sys.path.append(os.path.abspath('/Research/gpudrive'))\n",
    "\n",
    "from gpudrive.env.config import EnvConfig\n",
    "from gpudrive.env.env_torch import GPUDriveTorchEnv\n",
    "from gpudrive.env.dataset import SceneDataLoader\n",
    "import torch"
   ]
  },
  {
   "cell_type": "code",
   "execution_count": 2,
   "id": "9fa77378",
   "metadata": {},
   "outputs": [],
   "source": [
    "DYNAMICS_MODEL = \"delta_local\" # \"delta_local\" / \"state\" / \"classic\"\n",
    "DATA_PATH = \"data/processed/examples\" # Your data path\n",
    "MAX_NUM_OBJECTS = 64\n",
    "NUM_ENVS = 2\n",
    "DEVICE = torch.device(\"cuda:1\")\n",
    "\n",
    "# Configs\n",
    "env_config = EnvConfig(dynamics_model=DYNAMICS_MODEL)"
   ]
  },
  {
   "cell_type": "code",
   "execution_count": 3,
   "id": "b62d3eb1",
   "metadata": {},
   "outputs": [
    {
     "name": "stdout",
     "output_type": "stream",
     "text": [
      "Making the environment\n",
      "Compiling GPU engine code:\n",
      "/Research/gpudrive/external/madrona/src/mw/device/memory.cpp\n",
      "/Research/gpudrive/external/madrona/src/mw/device/state.cpp\n",
      "/Research/gpudrive/external/madrona/src/mw/device/crash.cpp\n",
      "/Research/gpudrive/external/madrona/src/mw/device/consts.cpp\n",
      "/Research/gpudrive/external/madrona/src/mw/device/taskgraph.cpp\n",
      "/Research/gpudrive/external/madrona/src/mw/device/taskgraph_utils.cpp\n",
      "/Research/gpudrive/external/madrona/src/mw/device/sort_archetype.cpp\n",
      "/Research/gpudrive/external/madrona/src/mw/device/host_print.cpp\n",
      "/Research/gpudrive/external/madrona/src/mw/../common/hashmap.cpp\n",
      "/Research/gpudrive/external/madrona/src/mw/../common/navmesh.cpp\n",
      "/Research/gpudrive/external/madrona/src/mw/../core/base.cpp\n",
      "/Research/gpudrive/external/madrona/src/mw/../physics/physics.cpp\n",
      "/Research/gpudrive/external/madrona/src/mw/../physics/geo.cpp\n",
      "/Research/gpudrive/external/madrona/src/mw/../physics/xpbd.cpp\n",
      "/Research/gpudrive/external/madrona/src/mw/../physics/tgs.cpp\n",
      "/Research/gpudrive/external/madrona/src/mw/../physics/narrowphase.cpp\n",
      "/Research/gpudrive/external/madrona/src/mw/../physics/broadphase.cpp\n",
      "/Research/gpudrive/external/madrona/src/mw/../render/ecs_system.cpp\n",
      "/Research/gpudrive/src/sim.cpp\n",
      "/Research/gpudrive/src/level_gen.cpp\n",
      "Initialization finished\n",
      "cuda:1\n",
      "cuda:1\n",
      "4\n",
      "GPUDRIVE VISIBLE DEVICES:\n",
      "0,1,2,3\n"
     ]
    },
    {
     "name": "stderr",
     "output_type": "stream",
     "text": [
      "/Research/gpudrive/src/level_gen.cpp(283): warning #177-D: function \"madrona_gpudrive::createFloorPlane\" was declared but never referenced\n",
      "  static void createFloorPlane(Engine &ctx)\n",
      "              ^\n",
      "\n",
      "Remark: The warnings can be suppressed with \"-diag-suppress <warning-number>\"\n",
      "\n",
      "\n",
      "\n"
     ]
    }
   ],
   "source": [
    "# Make dataloader\n",
    "data_loader = SceneDataLoader(\n",
    "    root=\"gpudrive/data/processed/examples\", # Path to the dataset\n",
    "    batch_size=NUM_ENVS, # Batch size, you want this to be equal to the number of worlds (envs) so that every world receives a different scene\n",
    "    dataset_size=NUM_ENVS, # Total number of different scenes we want to use\n",
    "    sample_with_replacement=False, \n",
    "    seed=42, \n",
    "    shuffle=True,   \n",
    ")\n",
    "\n",
    "print(\"Making the environment\")\n",
    "\n",
    "# Make environment\n",
    "env = GPUDriveTorchEnv(\n",
    "    config=env_config,\n",
    "    data_loader=data_loader,\n",
    "    max_cont_agents=MAX_NUM_OBJECTS, # Maximum number of agents to control per scenario\n",
    "    device=DEVICE, \n",
    "    action_type=\"continuous\" # \"continuous\" or \"discrete\"\n",
    ")"
   ]
  },
  {
   "cell_type": "code",
   "execution_count": 2,
   "id": "ddf3f532",
   "metadata": {},
   "outputs": [],
   "source": [
    "import torch\n"
   ]
  },
  {
   "cell_type": "code",
   "execution_count": 3,
   "id": "707cdfff",
   "metadata": {},
   "outputs": [],
   "source": [
    "DEVICE = \"cuda:0\"\n",
    "a = torch.Tensor([1,2,3]).to(DEVICE)"
   ]
  },
  {
   "cell_type": "code",
   "execution_count": 4,
   "id": "cf67a832",
   "metadata": {},
   "outputs": [
    {
     "data": {
      "text/plain": [
       "tensor([1., 2., 3.], device='cuda:1')"
      ]
     },
     "execution_count": 4,
     "metadata": {},
     "output_type": "execute_result"
    }
   ],
   "source": [
    "a.to(\"cuda:1\")"
   ]
  },
  {
   "cell_type": "code",
   "execution_count": null,
   "id": "393d5cc8",
   "metadata": {},
   "outputs": [],
   "source": []
  }
 ],
 "metadata": {
  "kernelspec": {
   "display_name": "gpudrive",
   "language": "python",
   "name": "python3"
  },
  "language_info": {
   "codemirror_mode": {
    "name": "ipython",
    "version": 3
   },
   "file_extension": ".py",
   "mimetype": "text/x-python",
   "name": "python",
   "nbconvert_exporter": "python",
   "pygments_lexer": "ipython3",
   "version": "3.11.8"
  }
 },
 "nbformat": 4,
 "nbformat_minor": 5
}
