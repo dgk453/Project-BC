{
 "cells": [
  {
   "cell_type": "code",
   "execution_count": 1,
   "id": "c48f77cd",
   "metadata": {},
   "outputs": [],
   "source": [
    "# For conveniance: \n",
    "%load_ext autoreload\n",
    "%autoreload 2\n",
    "\n",
    "import sys\n",
    "import os\n",
    "from pathlib import Path\n",
    "from dotenv import load_dotenv\n",
    "\n",
    "working_dir = Path.cwd()\n",
    "while working_dir.name != 'CausalMTR-BC':\n",
    "    working_dir = working_dir.parent\n",
    "    if working_dir == Path.home():\n",
    "        raise FileNotFoundError(\"Base directory 'CausalMTR-BC' not found\")\n",
    "os.chdir(working_dir)\n",
    "\n",
    "# Load env variables from config/.env \n",
    "dotenv_path = Path(\"configs/.env\")\n",
    "load_dotenv(dotenv_path=dotenv_path)\n",
    "\n",
    "from gpudrive.env.config import EnvConfig, SceneConfig\n",
    "from gpudrive.env.env_torch import GPUDriveTorchEnv\n",
    "from gpudrive.visualize.utils import img_from_fig\n",
    "from gpudrive.env.dataset import SceneDataLoader"
   ]
  },
  {
   "cell_type": "code",
   "execution_count": 2,
   "id": "5540c447",
   "metadata": {},
   "outputs": [],
   "source": [
    "DYNAMICS_MODEL = \"delta_local\" # \"delta_local\" / \"state\" / \"classic\"\n",
    "DATA_PATH = \"data/processed/examples\" # Your data path\n",
    "MAX_NUM_OBJECTS = 64\n",
    "NUM_ENVS = 4\n",
    "DEVICE = \"cuda:1\"\n",
    "\n",
    "# Configs\n",
    "env_config = EnvConfig(dynamics_model=DYNAMICS_MODEL)"
   ]
  },
  {
   "cell_type": "code",
   "execution_count": 3,
   "id": "c8b5298b",
   "metadata": {},
   "outputs": [
    {
     "name": "stdout",
     "output_type": "stream",
     "text": [
      "Making the environment\n",
      "Compiling GPU engine code:\n",
      "/CausalMTR-BC/gpudrive/external/madrona/src/mw/device/memory.cpp\n",
      "/CausalMTR-BC/gpudrive/external/madrona/src/mw/device/state.cpp\n",
      "/CausalMTR-BC/gpudrive/external/madrona/src/mw/device/crash.cpp\n",
      "/CausalMTR-BC/gpudrive/external/madrona/src/mw/device/consts.cpp\n",
      "/CausalMTR-BC/gpudrive/external/madrona/src/mw/device/taskgraph.cpp\n",
      "/CausalMTR-BC/gpudrive/external/madrona/src/mw/device/taskgraph_utils.cpp\n",
      "/CausalMTR-BC/gpudrive/external/madrona/src/mw/device/sort_archetype.cpp\n",
      "/CausalMTR-BC/gpudrive/external/madrona/src/mw/device/host_print.cpp\n",
      "/CausalMTR-BC/gpudrive/external/madrona/src/mw/../common/hashmap.cpp\n",
      "/CausalMTR-BC/gpudrive/external/madrona/src/mw/../common/navmesh.cpp\n",
      "/CausalMTR-BC/gpudrive/external/madrona/src/mw/../core/base.cpp\n",
      "/CausalMTR-BC/gpudrive/external/madrona/src/mw/../physics/physics.cpp\n",
      "/CausalMTR-BC/gpudrive/external/madrona/src/mw/../physics/geo.cpp\n",
      "/CausalMTR-BC/gpudrive/external/madrona/src/mw/../physics/xpbd.cpp\n",
      "/CausalMTR-BC/gpudrive/external/madrona/src/mw/../physics/tgs.cpp\n",
      "/CausalMTR-BC/gpudrive/external/madrona/src/mw/../physics/narrowphase.cpp\n",
      "/CausalMTR-BC/gpudrive/external/madrona/src/mw/../physics/broadphase.cpp\n",
      "/CausalMTR-BC/gpudrive/external/madrona/src/mw/../render/ecs_system.cpp\n",
      "/CausalMTR-BC/gpudrive/src/sim.cpp\n",
      "/CausalMTR-BC/gpudrive/src/level_gen.cpp\n",
      "Initialization finished\n"
     ]
    },
    {
     "name": "stderr",
     "output_type": "stream",
     "text": [
      "/CausalMTR-BC/gpudrive/src/level_gen.cpp(283): warning #177-D: function \"madrona_gpudrive::createFloorPlane\" was declared but never referenced\n",
      "  static void createFloorPlane(Engine &ctx)\n",
      "              ^\n",
      "\n",
      "Remark: The warnings can be suppressed with \"-diag-suppress <warning-number>\"\n",
      "\n",
      "\n",
      "\n"
     ]
    }
   ],
   "source": [
    "# Make dataloader\n",
    "data_loader = SceneDataLoader(\n",
    "    root=\"gpudrive/data/processed/examples\", # Path to the dataset\n",
    "    batch_size=NUM_ENVS, # Batch size, you want this to be equal to the number of worlds (envs) so that every world receives a different scene\n",
    "    dataset_size=NUM_ENVS, # Total number of different scenes we want to use\n",
    "    sample_with_replacement=False, \n",
    "    seed=42, \n",
    "    shuffle=True,   \n",
    ")\n",
    "\n",
    "print(\"Making the environment\")\n",
    "\n",
    "# Make environment\n",
    "env = GPUDriveTorchEnv(\n",
    "    config=env_config,\n",
    "    data_loader=data_loader,\n",
    "    max_cont_agents=MAX_NUM_OBJECTS, # Maximum number of agents to control per scenario\n",
    "    device=\"cuda\", \n",
    "    action_type=\"continuous\" # \"continuous\" or \"discrete\"\n",
    ")"
   ]
  },
  {
   "cell_type": "code",
   "execution_count": 4,
   "id": "703dc09b",
   "metadata": {},
   "outputs": [],
   "source": [
    "from cmtr_bc.waymo_dataset import WaymoDataset\n",
    "import yaml \n",
    "from easydict import EasyDict\n",
    "import logging\n",
    "import torch\n",
    "import numpy as np"
   ]
  },
  {
   "cell_type": "code",
   "execution_count": 5,
   "id": "fac8c8b9",
   "metadata": {},
   "outputs": [],
   "source": [
    "def getconfig(cfg_file):\n",
    "    with open(cfg_file, 'r') as f:\n",
    "        try:\n",
    "            config = yaml.load(f, Loader=yaml.FullLoader)\n",
    "        except:\n",
    "            config = yaml.load(f)\n",
    "\n",
    "    return EasyDict(config)\n",
    "\n",
    "logger = logging.getLogger(__name__)\n",
    "\n",
    "config = getconfig(\"configs/config.yaml\")\n",
    "waymo_dataset = WaymoDataset(config.DATA_CONFIG, test_mode=1, logger=logger)"
   ]
  },
  {
   "cell_type": "code",
   "execution_count": 6,
   "id": "a81d622a",
   "metadata": {},
   "outputs": [
    {
     "name": "stderr",
     "output_type": "stream",
     "text": [
      "/opt/miniforge3/envs/gpudrive/lib/python3.11/site-packages/colt5_attention/triton_coor_descent.py:314: FutureWarning: `torch.cuda.amp.custom_fwd(args...)` is deprecated. Please use `torch.amp.custom_fwd(args..., device_type='cuda')` instead.\n",
      "  @custom_fwd\n",
      "/opt/miniforge3/envs/gpudrive/lib/python3.11/site-packages/colt5_attention/triton_coor_descent.py:410: FutureWarning: `torch.cuda.amp.custom_bwd(args...)` is deprecated. Please use `torch.amp.custom_bwd(args..., device_type='cuda')` instead.\n",
      "  @custom_bwd\n"
     ]
    }
   ],
   "source": [
    "from mtr.models import model as model_utils\n",
    "from cmtr_bc.waymo_iterator import TrajectoryIterator\n",
    "from torch.utils.data import DataLoader"
   ]
  },
  {
   "cell_type": "code",
   "execution_count": 7,
   "id": "127e392c",
   "metadata": {},
   "outputs": [],
   "source": [
    "traj_data_loader = TrajectoryIterator(env, data_loader, cmtr=True, waymo_dataset=waymo_dataset, prior_frame=20, future_frame=40, simple=False)\n",
    "train_iterator = iter(DataLoader(traj_data_loader, batch_size=2, collate_fn=traj_data_loader.collate_batch))"
   ]
  },
  {
   "cell_type": "code",
   "execution_count": 8,
   "id": "5a98c9f1",
   "metadata": {},
   "outputs": [],
   "source": [
    "MODEL_DEVICE = \"cuda:1\"\n",
    "model_cfg = config.MODEL\n",
    "model_cfg.CONTEXT_ENCODER.NUM_INPUT_ATTR_AGENT = 38\n",
    "model_cfg.CONTEXT_ENCODER.NUM_ATTN_LAYERS = 1\n",
    "model_cfg.CONTEXT_ENCODER.NUM_CHANNEL_IN_MLP_AGENT = 64\n",
    "model_cfg.MOTION_DECODER.NUM_DECODER_LAYERS = 1\n",
    "model_cfg.MOTION_DECODER.NUM_FUTURE_FRAMES = 40\n",
    "torch.cuda.set_device(1)\n",
    "model = model_utils.MotionTransformer(config=model_cfg).to(MODEL_DEVICE)"
   ]
  },
  {
   "cell_type": "code",
   "execution_count": 16,
   "id": "c4afcdab",
   "metadata": {},
   "outputs": [],
   "source": [
    "model.set_epoch(20)"
   ]
  },
  {
   "cell_type": "code",
   "execution_count": 17,
   "id": "08b32a0e",
   "metadata": {},
   "outputs": [],
   "source": [
    "batch_dict, actions, _, _ = next(train_iterator)\n",
    "loss, tb_dict, disp_dict, batch_dict = model(batch_dict)"
   ]
  },
  {
   "cell_type": "code",
   "execution_count": 18,
   "id": "4940af3d",
   "metadata": {},
   "outputs": [
    {
     "data": {
      "text/plain": [
       "{'loss_layer0': 4622.67578125,\n",
       " 'loss_layer0_reg_gmm': 4168.06298828125,\n",
       " 'loss_layer0_reg_vel': 92.6409912109375,\n",
       " 'loss_layer0_cls': 4.208978176116943,\n",
       " 'ade_TYPE_VEHICLE_layer_0': 2.320590058962504,\n",
       " 'ade_TYPE_PEDESTRIAN_layer_0': -0.0,\n",
       " 'ade_TYPE_CYCLIST_layer_0': -0.0,\n",
       " 'loss_dense_prediction': 3894.41748046875,\n",
       " 'loss': 8517.11328125,\n",
       " 'mask_predictor_loss': 0.019500000402331352}"
      ]
     },
     "execution_count": 18,
     "metadata": {},
     "output_type": "execute_result"
    }
   ],
   "source": [
    "tb_dict"
   ]
  },
  {
   "cell_type": "code",
   "execution_count": null,
   "id": "ec39ec2a",
   "metadata": {},
   "outputs": [],
   "source": [
    "'''\n",
    "Because of annealment, mask_predictor loss is dependent on epoch - check mask_predictor_default.yaml for \n",
    "annealment config\n",
    "'''"
   ]
  },
  {
   "cell_type": "code",
   "execution_count": null,
   "id": "556fc880",
   "metadata": {},
   "outputs": [],
   "source": [
    "'''\n",
    "Because of annealment, mask_predictor loss is dependent on epoch - check mask_predictor_default.yaml for \n",
    "annealment config\n",
    "'''"
   ]
  }
 ],
 "metadata": {
  "kernelspec": {
   "display_name": "gpudrive",
   "language": "python",
   "name": "python3"
  },
  "language_info": {
   "codemirror_mode": {
    "name": "ipython",
    "version": 3
   },
   "file_extension": ".py",
   "mimetype": "text/x-python",
   "name": "python",
   "nbconvert_exporter": "python",
   "pygments_lexer": "ipython3",
   "version": "3.11.8"
  }
 },
 "nbformat": 4,
 "nbformat_minor": 5
}
